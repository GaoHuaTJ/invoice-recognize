{
 "cells": [
  {
   "cell_type": "code",
   "execution_count": 1,
   "metadata": {},
   "outputs": [],
   "source": [
    "import fitz\n",
    "\n",
    "'''\n",
    "# 将PDF转化为图片\n",
    "pdfPath pdf文件的路径\n",
    "imgPath 图像要保存的文件夹\n",
    "zoom_x x方向的缩放系数\n",
    "zoom_y y方向的缩放系数\n",
    "rotation_angle 旋转角度\n",
    "'''\n",
    "def pdf_image(pdfPath,imgPath,zoom_x,zoom_y,rotation_angle):\n",
    "    # 打开PDF文件\n",
    "    pdf = fitz.open(pdfPath)\n",
    "    # 逐页读取PDF\n",
    "    for pg in range(0, pdf.pageCount):\n",
    "        page = pdf[pg]\n",
    "        # 设置缩放和旋转系数\n",
    "        trans = fitz.Matrix(zoom_x, zoom_y).preRotate(rotation_angle)\n",
    "        pm = page.getPixmap(matrix=trans, alpha=False)\n",
    "        # 开始写图像\n",
    "        pm.writePNG(imgPath+str(pg)+\".png\")\n",
    "    pdf.close()\n"
   ]
  },
  {
   "cell_type": "code",
   "execution_count": 21,
   "metadata": {},
   "outputs": [
    {
     "data": {
      "text/plain": [
       "['110.pdf',\n",
       " '113.pdf',\n",
       " '160.1.pdf',\n",
       " '194.2.pdf',\n",
       " '260.3.pdf',\n",
       " '271.9.pdf',\n",
       " '365.7.pdf',\n",
       " '367.pdf',\n",
       " '76.pdf',\n",
       " '814.4.pdf',\n",
       " '87.pdf',\n",
       " '88.7.pdf',\n",
       " '88.pdf',\n",
       " '99.4.pdf',\n",
       " '滴滴电子发票A.pdf',\n",
       " '餐饮-309.95.pdf']"
      ]
     },
     "execution_count": 21,
     "metadata": {},
     "output_type": "execute_result"
    }
   ],
   "source": [
    "import os\n",
    "def get_dir(path):\n",
    "    return os.listdir(path)\n",
    "\n",
    "get_dir(\"朱东阳\")"
   ]
  },
  {
   "cell_type": "markdown",
   "metadata": {},
   "source": []
  },
  {
   "cell_type": "code",
   "execution_count": 20,
   "metadata": {},
   "outputs": [],
   "source": []
  },
  {
   "cell_type": "code",
   "execution_count": 17,
   "metadata": {},
   "outputs": [
    {
     "name": "stdout",
     "output_type": "stream",
     "text": [
      "['110.pdf', '113.pdf', '160.1.pdf', '194.2.pdf', '260.3.pdf', '271.9.pdf', '365.7.pdf', '367.pdf', '76.pdf', '814.4.pdf', '87.pdf', '88.7.pdf', '88.pdf', '99.4.pdf', '图片输出', '滴滴电子发票A.pdf', '餐饮-309.95.pdf']\n"
     ]
    }
   ],
   "source": [
    "print(dirs)"
   ]
  },
  {
   "cell_type": "code",
   "execution_count": 29,
   "metadata": {},
   "outputs": [
    {
     "name": "stderr",
     "output_type": "stream",
     "text": [
      "mupdf: cannot find startxref\n"
     ]
    }
   ],
   "source": [
    "path=\"高华\"\n",
    "dirs=get_dir(path)\n",
    "for dir in dirs:\n",
    "    pdf_image(r\"高华\\\\{0}\".format(dir),r\"高华\\\\{0}\".format(dir),5,5,0)"
   ]
  },
  {
   "cell_type": "code",
   "execution_count": null,
   "metadata": {},
   "outputs": [],
   "source": []
  }
 ],
 "metadata": {
  "interpreter": {
   "hash": "d68fdc54d3288d7c29ebad446aa287c1707feb8bea8f33cbb6c17205e663f113"
  },
  "kernelspec": {
   "display_name": "Python 3.9.6 32-bit",
   "language": "python",
   "name": "python3"
  },
  "language_info": {
   "codemirror_mode": {
    "name": "ipython",
    "version": 3
   },
   "file_extension": ".py",
   "mimetype": "text/x-python",
   "name": "python",
   "nbconvert_exporter": "python",
   "pygments_lexer": "ipython3",
   "version": "3.9.6"
  },
  "orig_nbformat": 4
 },
 "nbformat": 4,
 "nbformat_minor": 2
}
